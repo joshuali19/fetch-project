{
 "cells": [
  {
   "cell_type": "code",
   "execution_count": 1,
   "id": "66a013e1-d8c3-451f-a5cb-d4e85f72d25d",
   "metadata": {},
   "outputs": [],
   "source": [
    "import pandas as pd\n",
    "import numpy as np"
   ]
  },
  {
   "cell_type": "code",
   "execution_count": 2,
   "id": "95d50a7c-2632-46c9-9ddb-3783b064760e",
   "metadata": {},
   "outputs": [],
   "source": [
    "users = pd.read_json('./users.json', lines=True)"
   ]
  },
  {
   "cell_type": "code",
   "execution_count": 3,
   "id": "b8f6c4e5-c777-43f7-9daa-bb1d00ba9886",
   "metadata": {},
   "outputs": [
    {
     "data": {
      "text/html": [
       "<div>\n",
       "<style scoped>\n",
       "    .dataframe tbody tr th:only-of-type {\n",
       "        vertical-align: middle;\n",
       "    }\n",
       "\n",
       "    .dataframe tbody tr th {\n",
       "        vertical-align: top;\n",
       "    }\n",
       "\n",
       "    .dataframe thead th {\n",
       "        text-align: right;\n",
       "    }\n",
       "</style>\n",
       "<table border=\"1\" class=\"dataframe\">\n",
       "  <thead>\n",
       "    <tr style=\"text-align: right;\">\n",
       "      <th></th>\n",
       "      <th>_id</th>\n",
       "      <th>active</th>\n",
       "      <th>createdDate</th>\n",
       "      <th>lastLogin</th>\n",
       "      <th>role</th>\n",
       "      <th>signUpSource</th>\n",
       "      <th>state</th>\n",
       "    </tr>\n",
       "  </thead>\n",
       "  <tbody>\n",
       "    <tr>\n",
       "      <th>0</th>\n",
       "      <td>{'$oid': '5ff1e194b6a9d73a3a9f1052'}</td>\n",
       "      <td>True</td>\n",
       "      <td>{'$date': 1609687444800}</td>\n",
       "      <td>{'$date': 1609687537858}</td>\n",
       "      <td>consumer</td>\n",
       "      <td>Email</td>\n",
       "      <td>WI</td>\n",
       "    </tr>\n",
       "    <tr>\n",
       "      <th>1</th>\n",
       "      <td>{'$oid': '5ff1e194b6a9d73a3a9f1052'}</td>\n",
       "      <td>True</td>\n",
       "      <td>{'$date': 1609687444800}</td>\n",
       "      <td>{'$date': 1609687537858}</td>\n",
       "      <td>consumer</td>\n",
       "      <td>Email</td>\n",
       "      <td>WI</td>\n",
       "    </tr>\n",
       "    <tr>\n",
       "      <th>2</th>\n",
       "      <td>{'$oid': '5ff1e194b6a9d73a3a9f1052'}</td>\n",
       "      <td>True</td>\n",
       "      <td>{'$date': 1609687444800}</td>\n",
       "      <td>{'$date': 1609687537858}</td>\n",
       "      <td>consumer</td>\n",
       "      <td>Email</td>\n",
       "      <td>WI</td>\n",
       "    </tr>\n",
       "    <tr>\n",
       "      <th>3</th>\n",
       "      <td>{'$oid': '5ff1e1eacfcf6c399c274ae6'}</td>\n",
       "      <td>True</td>\n",
       "      <td>{'$date': 1609687530554}</td>\n",
       "      <td>{'$date': 1609687530597}</td>\n",
       "      <td>consumer</td>\n",
       "      <td>Email</td>\n",
       "      <td>WI</td>\n",
       "    </tr>\n",
       "    <tr>\n",
       "      <th>4</th>\n",
       "      <td>{'$oid': '5ff1e194b6a9d73a3a9f1052'}</td>\n",
       "      <td>True</td>\n",
       "      <td>{'$date': 1609687444800}</td>\n",
       "      <td>{'$date': 1609687537858}</td>\n",
       "      <td>consumer</td>\n",
       "      <td>Email</td>\n",
       "      <td>WI</td>\n",
       "    </tr>\n",
       "  </tbody>\n",
       "</table>\n",
       "</div>"
      ],
      "text/plain": [
       "                                    _id  active               createdDate  \\\n",
       "0  {'$oid': '5ff1e194b6a9d73a3a9f1052'}    True  {'$date': 1609687444800}   \n",
       "1  {'$oid': '5ff1e194b6a9d73a3a9f1052'}    True  {'$date': 1609687444800}   \n",
       "2  {'$oid': '5ff1e194b6a9d73a3a9f1052'}    True  {'$date': 1609687444800}   \n",
       "3  {'$oid': '5ff1e1eacfcf6c399c274ae6'}    True  {'$date': 1609687530554}   \n",
       "4  {'$oid': '5ff1e194b6a9d73a3a9f1052'}    True  {'$date': 1609687444800}   \n",
       "\n",
       "                  lastLogin      role signUpSource state  \n",
       "0  {'$date': 1609687537858}  consumer        Email    WI  \n",
       "1  {'$date': 1609687537858}  consumer        Email    WI  \n",
       "2  {'$date': 1609687537858}  consumer        Email    WI  \n",
       "3  {'$date': 1609687530597}  consumer        Email    WI  \n",
       "4  {'$date': 1609687537858}  consumer        Email    WI  "
      ]
     },
     "execution_count": 3,
     "metadata": {},
     "output_type": "execute_result"
    }
   ],
   "source": [
    "users.head()"
   ]
  },
  {
   "cell_type": "code",
   "execution_count": 4,
   "id": "b605dd2a-0a06-47c7-ae2a-7adecccc29d1",
   "metadata": {},
   "outputs": [
    {
     "data": {
      "text/html": [
       "<div>\n",
       "<style scoped>\n",
       "    .dataframe tbody tr th:only-of-type {\n",
       "        vertical-align: middle;\n",
       "    }\n",
       "\n",
       "    .dataframe tbody tr th {\n",
       "        vertical-align: top;\n",
       "    }\n",
       "\n",
       "    .dataframe thead th {\n",
       "        text-align: right;\n",
       "    }\n",
       "</style>\n",
       "<table border=\"1\" class=\"dataframe\">\n",
       "  <thead>\n",
       "    <tr style=\"text-align: right;\">\n",
       "      <th></th>\n",
       "      <th>_id</th>\n",
       "      <th>active</th>\n",
       "      <th>createdDate</th>\n",
       "      <th>lastLogin</th>\n",
       "      <th>role</th>\n",
       "      <th>signUpSource</th>\n",
       "      <th>state</th>\n",
       "    </tr>\n",
       "  </thead>\n",
       "  <tbody>\n",
       "    <tr>\n",
       "      <th>count</th>\n",
       "      <td>495</td>\n",
       "      <td>495</td>\n",
       "      <td>495</td>\n",
       "      <td>433</td>\n",
       "      <td>495</td>\n",
       "      <td>447</td>\n",
       "      <td>439</td>\n",
       "    </tr>\n",
       "    <tr>\n",
       "      <th>unique</th>\n",
       "      <td>212</td>\n",
       "      <td>2</td>\n",
       "      <td>212</td>\n",
       "      <td>172</td>\n",
       "      <td>2</td>\n",
       "      <td>2</td>\n",
       "      <td>8</td>\n",
       "    </tr>\n",
       "    <tr>\n",
       "      <th>top</th>\n",
       "      <td>{'$oid': '54943462e4b07e684157a532'}</td>\n",
       "      <td>True</td>\n",
       "      <td>{'$date': 1418998882381}</td>\n",
       "      <td>{'$date': 1614963143204}</td>\n",
       "      <td>consumer</td>\n",
       "      <td>Email</td>\n",
       "      <td>WI</td>\n",
       "    </tr>\n",
       "    <tr>\n",
       "      <th>freq</th>\n",
       "      <td>20</td>\n",
       "      <td>494</td>\n",
       "      <td>20</td>\n",
       "      <td>20</td>\n",
       "      <td>413</td>\n",
       "      <td>443</td>\n",
       "      <td>396</td>\n",
       "    </tr>\n",
       "  </tbody>\n",
       "</table>\n",
       "</div>"
      ],
      "text/plain": [
       "                                         _id active               createdDate  \\\n",
       "count                                    495    495                       495   \n",
       "unique                                   212      2                       212   \n",
       "top     {'$oid': '54943462e4b07e684157a532'}   True  {'$date': 1418998882381}   \n",
       "freq                                      20    494                        20   \n",
       "\n",
       "                       lastLogin      role signUpSource state  \n",
       "count                        433       495          447   439  \n",
       "unique                       172         2            2     8  \n",
       "top     {'$date': 1614963143204}  consumer        Email    WI  \n",
       "freq                          20       413          443   396  "
      ]
     },
     "execution_count": 4,
     "metadata": {},
     "output_type": "execute_result"
    }
   ],
   "source": [
    "users.describe(include='all')"
   ]
  },
  {
   "cell_type": "markdown",
   "id": "94828fec-ec76-4280-9ff4-4bb5a69c4278",
   "metadata": {},
   "source": [
    "The first thing to note is the `_id` field is not entirely unique, which will need to get looked into."
   ]
  },
  {
   "cell_type": "code",
   "execution_count": 6,
   "id": "e77f7f3b-07ec-4553-aad9-ae1f6b4852ac",
   "metadata": {},
   "outputs": [
    {
     "data": {
      "text/plain": [
       "array(['Email', 'Google', nan], dtype=object)"
      ]
     },
     "execution_count": 6,
     "metadata": {},
     "output_type": "execute_result"
    }
   ],
   "source": [
    "users.signUpSource.unique()"
   ]
  },
  {
   "cell_type": "code",
   "execution_count": 7,
   "id": "3eeba028-dbf6-44d9-8f8b-b98bdd37eddb",
   "metadata": {},
   "outputs": [
    {
     "data": {
      "text/plain": [
       "array(['WI', 'KY', 'AL', 'CO', 'IL', nan, 'OH', 'SC', 'NH'], dtype=object)"
      ]
     },
     "execution_count": 7,
     "metadata": {},
     "output_type": "execute_result"
    }
   ],
   "source": [
    "users.state.unique()"
   ]
  },
  {
   "cell_type": "code",
   "execution_count": 8,
   "id": "922cb047-0efa-414d-85b7-9085b9f98a8f",
   "metadata": {},
   "outputs": [
    {
     "data": {
      "text/plain": [
       "array(['consumer', 'fetch-staff'], dtype=object)"
      ]
     },
     "execution_count": 8,
     "metadata": {},
     "output_type": "execute_result"
    }
   ],
   "source": [
    "users.role.unique()"
   ]
  },
  {
   "cell_type": "code",
   "execution_count": 9,
   "id": "3d7ab80f-fb94-412a-b05c-c34959e9e888",
   "metadata": {},
   "outputs": [
    {
     "data": {
      "text/html": [
       "<div>\n",
       "<style scoped>\n",
       "    .dataframe tbody tr th:only-of-type {\n",
       "        vertical-align: middle;\n",
       "    }\n",
       "\n",
       "    .dataframe tbody tr th {\n",
       "        vertical-align: top;\n",
       "    }\n",
       "\n",
       "    .dataframe thead th {\n",
       "        text-align: right;\n",
       "    }\n",
       "</style>\n",
       "<table border=\"1\" class=\"dataframe\">\n",
       "  <thead>\n",
       "    <tr style=\"text-align: right;\">\n",
       "      <th></th>\n",
       "      <th>_id</th>\n",
       "      <th>active</th>\n",
       "      <th>createdDate</th>\n",
       "      <th>lastLogin</th>\n",
       "      <th>role</th>\n",
       "      <th>signUpSource</th>\n",
       "      <th>state</th>\n",
       "    </tr>\n",
       "  </thead>\n",
       "  <tbody>\n",
       "    <tr>\n",
       "      <th>395</th>\n",
       "      <td>{'$oid': '59c124bae4b0299e55b0f330'}</td>\n",
       "      <td>True</td>\n",
       "      <td>{'$date': 1505830074302}</td>\n",
       "      <td>{'$date': 1612802578117}</td>\n",
       "      <td>fetch-staff</td>\n",
       "      <td>NaN</td>\n",
       "      <td>WI</td>\n",
       "    </tr>\n",
       "    <tr>\n",
       "      <th>396</th>\n",
       "      <td>{'$oid': '59c124bae4b0299e55b0f330'}</td>\n",
       "      <td>True</td>\n",
       "      <td>{'$date': 1505830074302}</td>\n",
       "      <td>{'$date': 1612802578117}</td>\n",
       "      <td>fetch-staff</td>\n",
       "      <td>NaN</td>\n",
       "      <td>WI</td>\n",
       "    </tr>\n",
       "    <tr>\n",
       "      <th>397</th>\n",
       "      <td>{'$oid': '59c124bae4b0299e55b0f330'}</td>\n",
       "      <td>True</td>\n",
       "      <td>{'$date': 1505830074302}</td>\n",
       "      <td>{'$date': 1612802578117}</td>\n",
       "      <td>fetch-staff</td>\n",
       "      <td>NaN</td>\n",
       "      <td>WI</td>\n",
       "    </tr>\n",
       "    <tr>\n",
       "      <th>398</th>\n",
       "      <td>{'$oid': '59c124bae4b0299e55b0f330'}</td>\n",
       "      <td>True</td>\n",
       "      <td>{'$date': 1505830074302}</td>\n",
       "      <td>{'$date': 1612802578117}</td>\n",
       "      <td>fetch-staff</td>\n",
       "      <td>NaN</td>\n",
       "      <td>WI</td>\n",
       "    </tr>\n",
       "    <tr>\n",
       "      <th>399</th>\n",
       "      <td>{'$oid': '59c124bae4b0299e55b0f330'}</td>\n",
       "      <td>True</td>\n",
       "      <td>{'$date': 1505830074302}</td>\n",
       "      <td>{'$date': 1612802578117}</td>\n",
       "      <td>fetch-staff</td>\n",
       "      <td>NaN</td>\n",
       "      <td>WI</td>\n",
       "    </tr>\n",
       "    <tr>\n",
       "      <th>...</th>\n",
       "      <td>...</td>\n",
       "      <td>...</td>\n",
       "      <td>...</td>\n",
       "      <td>...</td>\n",
       "      <td>...</td>\n",
       "      <td>...</td>\n",
       "      <td>...</td>\n",
       "    </tr>\n",
       "    <tr>\n",
       "      <th>490</th>\n",
       "      <td>{'$oid': '54943462e4b07e684157a532'}</td>\n",
       "      <td>True</td>\n",
       "      <td>{'$date': 1418998882381}</td>\n",
       "      <td>{'$date': 1614963143204}</td>\n",
       "      <td>fetch-staff</td>\n",
       "      <td>NaN</td>\n",
       "      <td>NaN</td>\n",
       "    </tr>\n",
       "    <tr>\n",
       "      <th>491</th>\n",
       "      <td>{'$oid': '54943462e4b07e684157a532'}</td>\n",
       "      <td>True</td>\n",
       "      <td>{'$date': 1418998882381}</td>\n",
       "      <td>{'$date': 1614963143204}</td>\n",
       "      <td>fetch-staff</td>\n",
       "      <td>NaN</td>\n",
       "      <td>NaN</td>\n",
       "    </tr>\n",
       "    <tr>\n",
       "      <th>492</th>\n",
       "      <td>{'$oid': '54943462e4b07e684157a532'}</td>\n",
       "      <td>True</td>\n",
       "      <td>{'$date': 1418998882381}</td>\n",
       "      <td>{'$date': 1614963143204}</td>\n",
       "      <td>fetch-staff</td>\n",
       "      <td>NaN</td>\n",
       "      <td>NaN</td>\n",
       "    </tr>\n",
       "    <tr>\n",
       "      <th>493</th>\n",
       "      <td>{'$oid': '54943462e4b07e684157a532'}</td>\n",
       "      <td>True</td>\n",
       "      <td>{'$date': 1418998882381}</td>\n",
       "      <td>{'$date': 1614963143204}</td>\n",
       "      <td>fetch-staff</td>\n",
       "      <td>NaN</td>\n",
       "      <td>NaN</td>\n",
       "    </tr>\n",
       "    <tr>\n",
       "      <th>494</th>\n",
       "      <td>{'$oid': '54943462e4b07e684157a532'}</td>\n",
       "      <td>True</td>\n",
       "      <td>{'$date': 1418998882381}</td>\n",
       "      <td>{'$date': 1614963143204}</td>\n",
       "      <td>fetch-staff</td>\n",
       "      <td>NaN</td>\n",
       "      <td>NaN</td>\n",
       "    </tr>\n",
       "  </tbody>\n",
       "</table>\n",
       "<p>82 rows × 7 columns</p>\n",
       "</div>"
      ],
      "text/plain": [
       "                                      _id  active               createdDate  \\\n",
       "395  {'$oid': '59c124bae4b0299e55b0f330'}    True  {'$date': 1505830074302}   \n",
       "396  {'$oid': '59c124bae4b0299e55b0f330'}    True  {'$date': 1505830074302}   \n",
       "397  {'$oid': '59c124bae4b0299e55b0f330'}    True  {'$date': 1505830074302}   \n",
       "398  {'$oid': '59c124bae4b0299e55b0f330'}    True  {'$date': 1505830074302}   \n",
       "399  {'$oid': '59c124bae4b0299e55b0f330'}    True  {'$date': 1505830074302}   \n",
       "..                                    ...     ...                       ...   \n",
       "490  {'$oid': '54943462e4b07e684157a532'}    True  {'$date': 1418998882381}   \n",
       "491  {'$oid': '54943462e4b07e684157a532'}    True  {'$date': 1418998882381}   \n",
       "492  {'$oid': '54943462e4b07e684157a532'}    True  {'$date': 1418998882381}   \n",
       "493  {'$oid': '54943462e4b07e684157a532'}    True  {'$date': 1418998882381}   \n",
       "494  {'$oid': '54943462e4b07e684157a532'}    True  {'$date': 1418998882381}   \n",
       "\n",
       "                    lastLogin         role signUpSource state  \n",
       "395  {'$date': 1612802578117}  fetch-staff          NaN    WI  \n",
       "396  {'$date': 1612802578117}  fetch-staff          NaN    WI  \n",
       "397  {'$date': 1612802578117}  fetch-staff          NaN    WI  \n",
       "398  {'$date': 1612802578117}  fetch-staff          NaN    WI  \n",
       "399  {'$date': 1612802578117}  fetch-staff          NaN    WI  \n",
       "..                        ...          ...          ...   ...  \n",
       "490  {'$date': 1614963143204}  fetch-staff          NaN   NaN  \n",
       "491  {'$date': 1614963143204}  fetch-staff          NaN   NaN  \n",
       "492  {'$date': 1614963143204}  fetch-staff          NaN   NaN  \n",
       "493  {'$date': 1614963143204}  fetch-staff          NaN   NaN  \n",
       "494  {'$date': 1614963143204}  fetch-staff          NaN   NaN  \n",
       "\n",
       "[82 rows x 7 columns]"
      ]
     },
     "execution_count": 9,
     "metadata": {},
     "output_type": "execute_result"
    }
   ],
   "source": [
    "users[users.role == 'fetch-staff']"
   ]
  },
  {
   "cell_type": "markdown",
   "id": "78481eb7-b3be-4fb7-a79b-f146df800eac",
   "metadata": {},
   "source": [
    "Other than the `_id` column, we would just have to be careful to filter on `role` to only get consumers and not Fetch staff."
   ]
  }
 ],
 "metadata": {
  "kernelspec": {
   "display_name": "Python [conda env:PIC16B] *",
   "language": "python",
   "name": "conda-env-PIC16B-py"
  },
  "language_info": {
   "codemirror_mode": {
    "name": "ipython",
    "version": 3
   },
   "file_extension": ".py",
   "mimetype": "text/x-python",
   "name": "python",
   "nbconvert_exporter": "python",
   "pygments_lexer": "ipython3",
   "version": "3.8.15"
  }
 },
 "nbformat": 4,
 "nbformat_minor": 5
}
